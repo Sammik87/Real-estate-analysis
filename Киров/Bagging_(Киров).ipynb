{
 "cells": [
  {
   "cell_type": "code",
   "execution_count": 2,
   "id": "e0234682",
   "metadata": {
    "id": "e0234682"
   },
   "outputs": [],
   "source": [
    "import pandas as pd\n",
    "import numpy as np\n",
    "import seaborn as sns\n",
    "import matplotlib.pyplot as plt\n",
    "import scipy\n",
    "import pylab\n",
    "import math\n",
    "import random\n",
    "from sklearn.preprocessing import MinMaxScaler\n",
    "from sklearn.preprocessing import StandardScaler\n",
    "from sklearn.model_selection import train_test_split\n",
    "from sklearn.preprocessing import OneHotEncoder\n",
    "from sklearn.preprocessing import LabelEncoder\n",
    "from sklearn.model_selection import cross_val_score\n",
    "from sklearn.decomposition import PCA\n",
    "from pyod.models.knn import KNN\n",
    "from sklearn.metrics import mean_absolute_error as mae\n",
    "from sklearn.metrics import mean_squared_error as mse\n",
    "from sklearn.metrics import r2_score\n",
    "from sklearn.model_selection import RandomizedSearchCV\n",
    "from sklearn.model_selection import GridSearchCV\n",
    "from sklearn.ensemble import RandomForestRegressor\n",
    "from sklearn.neighbors import KNeighborsRegressor\n",
    "from catboost import CatBoostRegressor\n",
    "from xgboost import XGBRegressor\n",
    "from sklearn.ensemble import BaggingRegressor\n",
    "\n",
    "%matplotlib inline"
   ]
  },
  {
   "cell_type": "code",
   "execution_count": 3,
   "id": "d7b000eb",
   "metadata": {
    "id": "d7b000eb",
    "outputId": "dea9f899-e954-4ec0-dafe-3321a779f664"
   },
   "outputs": [
    {
     "data": {
      "text/html": [
       "<div>\n",
       "<style scoped>\n",
       "    .dataframe tbody tr th:only-of-type {\n",
       "        vertical-align: middle;\n",
       "    }\n",
       "\n",
       "    .dataframe tbody tr th {\n",
       "        vertical-align: top;\n",
       "    }\n",
       "\n",
       "    .dataframe thead th {\n",
       "        text-align: right;\n",
       "    }\n",
       "</style>\n",
       "<table border=\"1\" class=\"dataframe\">\n",
       "  <thead>\n",
       "    <tr style=\"text-align: right;\">\n",
       "      <th></th>\n",
       "      <th>Комнатность</th>\n",
       "      <th>LN(Общая площадь)</th>\n",
       "      <th>Общая площадь</th>\n",
       "      <th>Площадь кухни</th>\n",
       "      <th>Жилая площадь</th>\n",
       "      <th>Этаж 1</th>\n",
       "      <th>Этаж 2</th>\n",
       "      <th>Этажей в доме</th>\n",
       "      <th>Ремонт</th>\n",
       "      <th>Материал стен</th>\n",
       "      <th>...</th>\n",
       "      <th>последний</th>\n",
       "      <th>средний</th>\n",
       "      <th>деревянный</th>\n",
       "      <th>кирпичный</th>\n",
       "      <th>монолитный</th>\n",
       "      <th>панельный</th>\n",
       "      <th>дизайнерский</th>\n",
       "      <th>евро</th>\n",
       "      <th>косметический</th>\n",
       "      <th>требует ремонта</th>\n",
       "    </tr>\n",
       "  </thead>\n",
       "  <tbody>\n",
       "    <tr>\n",
       "      <th>0</th>\n",
       "      <td>2к</td>\n",
       "      <td>3.799974</td>\n",
       "      <td>44.7</td>\n",
       "      <td>5.900000</td>\n",
       "      <td>29.458690</td>\n",
       "      <td>5</td>\n",
       "      <td>последний</td>\n",
       "      <td>5</td>\n",
       "      <td>евро</td>\n",
       "      <td>панельный</td>\n",
       "      <td>...</td>\n",
       "      <td>1</td>\n",
       "      <td>0</td>\n",
       "      <td>0</td>\n",
       "      <td>0</td>\n",
       "      <td>0</td>\n",
       "      <td>1</td>\n",
       "      <td>0</td>\n",
       "      <td>1</td>\n",
       "      <td>0</td>\n",
       "      <td>0</td>\n",
       "    </tr>\n",
       "    <tr>\n",
       "      <th>1</th>\n",
       "      <td>1к</td>\n",
       "      <td>3.465736</td>\n",
       "      <td>32.0</td>\n",
       "      <td>6.900000</td>\n",
       "      <td>17.655975</td>\n",
       "      <td>2</td>\n",
       "      <td>средний</td>\n",
       "      <td>5</td>\n",
       "      <td>косметический</td>\n",
       "      <td>кирпичный</td>\n",
       "      <td>...</td>\n",
       "      <td>0</td>\n",
       "      <td>1</td>\n",
       "      <td>0</td>\n",
       "      <td>1</td>\n",
       "      <td>0</td>\n",
       "      <td>0</td>\n",
       "      <td>0</td>\n",
       "      <td>0</td>\n",
       "      <td>1</td>\n",
       "      <td>0</td>\n",
       "    </tr>\n",
       "    <tr>\n",
       "      <th>2</th>\n",
       "      <td>студия</td>\n",
       "      <td>3.502550</td>\n",
       "      <td>33.2</td>\n",
       "      <td>6.633333</td>\n",
       "      <td>18.193506</td>\n",
       "      <td>3</td>\n",
       "      <td>последний</td>\n",
       "      <td>3</td>\n",
       "      <td>евро</td>\n",
       "      <td>кирпичный</td>\n",
       "      <td>...</td>\n",
       "      <td>1</td>\n",
       "      <td>0</td>\n",
       "      <td>0</td>\n",
       "      <td>1</td>\n",
       "      <td>0</td>\n",
       "      <td>0</td>\n",
       "      <td>0</td>\n",
       "      <td>1</td>\n",
       "      <td>0</td>\n",
       "      <td>0</td>\n",
       "    </tr>\n",
       "    <tr>\n",
       "      <th>3</th>\n",
       "      <td>2к</td>\n",
       "      <td>3.943522</td>\n",
       "      <td>51.6</td>\n",
       "      <td>8.800000</td>\n",
       "      <td>28.744021</td>\n",
       "      <td>6</td>\n",
       "      <td>средний</td>\n",
       "      <td>7</td>\n",
       "      <td>евро</td>\n",
       "      <td>кирпичный</td>\n",
       "      <td>...</td>\n",
       "      <td>0</td>\n",
       "      <td>1</td>\n",
       "      <td>0</td>\n",
       "      <td>1</td>\n",
       "      <td>0</td>\n",
       "      <td>0</td>\n",
       "      <td>0</td>\n",
       "      <td>1</td>\n",
       "      <td>0</td>\n",
       "      <td>0</td>\n",
       "    </tr>\n",
       "    <tr>\n",
       "      <th>4</th>\n",
       "      <td>3к</td>\n",
       "      <td>3.998201</td>\n",
       "      <td>54.5</td>\n",
       "      <td>18.000000</td>\n",
       "      <td>27.597229</td>\n",
       "      <td>18</td>\n",
       "      <td>средний</td>\n",
       "      <td>19</td>\n",
       "      <td>дизайнерский</td>\n",
       "      <td>панельный</td>\n",
       "      <td>...</td>\n",
       "      <td>0</td>\n",
       "      <td>1</td>\n",
       "      <td>0</td>\n",
       "      <td>0</td>\n",
       "      <td>0</td>\n",
       "      <td>1</td>\n",
       "      <td>1</td>\n",
       "      <td>0</td>\n",
       "      <td>0</td>\n",
       "      <td>0</td>\n",
       "    </tr>\n",
       "  </tbody>\n",
       "</table>\n",
       "<p>5 rows × 36 columns</p>\n",
       "</div>"
      ],
      "text/plain": [
       "  Комнатность  LN(Общая площадь)  Общая площадь  Площадь кухни  Жилая площадь  \\\n",
       "0          2к           3.799974           44.7       5.900000      29.458690   \n",
       "1          1к           3.465736           32.0       6.900000      17.655975   \n",
       "2      студия           3.502550           33.2       6.633333      18.193506   \n",
       "3          2к           3.943522           51.6       8.800000      28.744021   \n",
       "4          3к           3.998201           54.5      18.000000      27.597229   \n",
       "\n",
       "   Этаж 1     Этаж 2  Этажей в доме          Ремонт Материал стен  ...  \\\n",
       "0       5  последний              5            евро     панельный  ...   \n",
       "1       2    средний              5   косметический     кирпичный  ...   \n",
       "2       3  последний              3            евро     кирпичный  ...   \n",
       "3       6    средний              7            евро     кирпичный  ...   \n",
       "4      18    средний             19    дизайнерский     панельный  ...   \n",
       "\n",
       "   последний средний  деревянный  кирпичный  монолитный  панельный  \\\n",
       "0          1       0           0          0           0          1   \n",
       "1          0       1           0          1           0          0   \n",
       "2          1       0           0          1           0          0   \n",
       "3          0       1           0          1           0          0   \n",
       "4          0       1           0          0           0          1   \n",
       "\n",
       "   дизайнерский  евро косметический  требует ремонта  \n",
       "0             0     1             0                0  \n",
       "1             0     0             1                0  \n",
       "2             0     1             0                0  \n",
       "3             0     1             0                0  \n",
       "4             1     0             0                0  \n",
       "\n",
       "[5 rows x 36 columns]"
      ]
     },
     "execution_count": 3,
     "metadata": {},
     "output_type": "execute_result"
    }
   ],
   "source": [
    "df=pd.read_excel('D:\\Стас\\Ученье - Свет\\Оценка\\Аспирантура\\Видео по NN, Data mining, ABC и т.д\\Распределение Гаусса, регрессия\\Python\\!Наработки\\Квартиры Киров/Квартиры_Киров_выбока_2.xlsx', sheet_name = 0)\n",
    "df.head()"
   ]
  },
  {
   "cell_type": "markdown",
   "id": "3eadd483",
   "metadata": {
    "id": "3eadd483"
   },
   "source": [
    "1. Выборка 1 - без исключения выбросов (с учетом нормализации и стандартизации).\n",
    "2. Выборка 2 - исключение экстремальных выбросов.\n",
    "3. Выборка 3 - исключение выбросов по общей площади и цене.\n",
    "4. Выборка 4 - исключение выбросов по логарифмированным общей площади и цене.\n",
    "5. Выборка 5 - исключение выбросов алгоритмом KNN."
   ]
  },
  {
   "cell_type": "markdown",
   "id": "e859ef9d",
   "metadata": {
    "id": "e859ef9d"
   },
   "source": [
    "<font size = 3><div style=\"text-align: justify\">**Выборка 1:**</div></font>"
   ]
  },
  {
   "cell_type": "code",
   "execution_count": 16,
   "id": "387dd861",
   "metadata": {
    "id": "387dd861",
    "outputId": "34465c7f-a996-4399-f359-697e3c9504f2"
   },
   "outputs": [
    {
     "data": {
      "text/plain": [
       "2399"
      ]
     },
     "execution_count": 16,
     "metadata": {},
     "output_type": "execute_result"
    }
   ],
   "source": [
    "df_v1 = df.copy()\n",
    "len(df_v1)"
   ]
  },
  {
   "cell_type": "markdown",
   "id": "38956948",
   "metadata": {
    "id": "38956948"
   },
   "source": [
    "<font size = 2><div style=\"text-align: justify\">**RandomForest:**</div></font>"
   ]
  },
  {
   "cell_type": "code",
   "execution_count": null,
   "id": "be32361f",
   "metadata": {
    "id": "be32361f"
   },
   "outputs": [],
   "source": [
    "#X = df_v1[['Общая площадь', 'Площадь кухни', 'Жилая площадь', 'Этаж 1', 'Этажей в доме', \n",
    "#           'Хронологический возраст', 'Долгота', 'Широта', 'pca(координата)', 'Тип санузла 2', \n",
    "#           '1к', '2к', '3к', '4к и более', 'студия', 'первый', 'последний', 'средний', \n",
    "#           'деревянный', 'кирпичный', 'монолитный', 'панельный', \n",
    "#           'дизайнерский', 'евро', 'косметический', 'требует ремонта']]\n",
    "X = df_v1[['LN(Общая площадь)', 'Площадь кухни', 'Жилая площадь', 'Этаж 1', 'Этажей в доме', \n",
    "           'Хронологический возраст', 'Долгота', 'Широта', 'Тип санузла 2', \n",
    "           '1к', '2к', '3к', '4к и более', 'студия', 'первый', 'последний', 'средний', \n",
    "           'деревянный', 'кирпичный', 'монолитный', 'панельный', \n",
    "           'дизайнерский', 'евро', 'косметический', 'требует ремонта']]\n",
    "\n",
    "#Y = df_v1['Цена']\n",
    "Y = df_v1['LN(Цена)']\n",
    "\n",
    "# Делим имеющуюся выборку на обучающую и тестовую\n",
    "X_train, X_test, Y_train, Y_test = train_test_split(X, Y, test_size=0.2, random_state=0)"
   ]
  },
  {
   "cell_type": "code",
   "execution_count": null,
   "id": "e7f04abc",
   "metadata": {
    "id": "e7f04abc",
    "outputId": "998e4e85-eff0-4bb5-8676-014dc3adc0ab"
   },
   "outputs": [
    {
     "name": "stdout",
     "output_type": "stream",
     "text": [
      "Train R2 0.885\n",
      "Test R2 0.861\n",
      "Разница 0.025\n",
      "MAE train: 0.128\n",
      "MAE test: 0.140\n",
      "CPU times: total: 51.5 s\n",
      "Wall time: 51.6 s\n"
     ]
    }
   ],
   "source": [
    "%%time\n",
    "\n",
    "rf = RandomForestRegressor()\n",
    "\n",
    "br = BaggingRegressor(base_estimator = rf, \n",
    "                      n_estimators = 150, \n",
    "                      bootstrap = True, \n",
    "                      max_samples = 0.20, \n",
    "                      random_state = 1)\n",
    "\n",
    "br.fit(X_train, Y_train)\n",
    "\n",
    "pred_train = br.predict(X_train)\n",
    "pred_test = br.predict(X_test)\n",
    "\n",
    "print(f'Train R2 {r2_score(Y_train, pred_train):.3f}')\n",
    "print(f'Test R2 {r2_score(Y_test, pred_test):.3f}')\n",
    "print(f'Разница {r2_score(Y_train, pred_train) - r2_score(Y_test, pred_test):.3f}')\n",
    "\n",
    "print(f'MAE train: {mae(Y_train, pred_train):.3f}')\n",
    "print(f'MAE test: {mae(Y_test, pred_test):.3f}')"
   ]
  },
  {
   "cell_type": "code",
   "execution_count": null,
   "id": "b2b853c7",
   "metadata": {
    "id": "b2b853c7",
    "outputId": "f87f6795-51e0-492d-ab47-07e3a627311c"
   },
   "outputs": [
    {
     "data": {
      "text/plain": [
       "{'base_estimator__bootstrap': True,\n",
       " 'base_estimator__ccp_alpha': 0.0,\n",
       " 'base_estimator__criterion': 'squared_error',\n",
       " 'base_estimator__max_depth': None,\n",
       " 'base_estimator__max_features': 'auto',\n",
       " 'base_estimator__max_leaf_nodes': None,\n",
       " 'base_estimator__max_samples': None,\n",
       " 'base_estimator__min_impurity_decrease': 0.0,\n",
       " 'base_estimator__min_samples_leaf': 1,\n",
       " 'base_estimator__min_samples_split': 2,\n",
       " 'base_estimator__min_weight_fraction_leaf': 0.0,\n",
       " 'base_estimator__n_estimators': 100,\n",
       " 'base_estimator__n_jobs': None,\n",
       " 'base_estimator__oob_score': False,\n",
       " 'base_estimator__random_state': None,\n",
       " 'base_estimator__verbose': 0,\n",
       " 'base_estimator__warm_start': False,\n",
       " 'base_estimator': RandomForestRegressor(),\n",
       " 'bootstrap': True,\n",
       " 'bootstrap_features': False,\n",
       " 'max_features': 1.0,\n",
       " 'max_samples': 0.2,\n",
       " 'n_estimators': 150,\n",
       " 'n_jobs': None,\n",
       " 'oob_score': False,\n",
       " 'random_state': 1,\n",
       " 'verbose': 0,\n",
       " 'warm_start': False}"
      ]
     },
     "execution_count": 80,
     "metadata": {},
     "output_type": "execute_result"
    }
   ],
   "source": [
    "br.get_params()"
   ]
  },
  {
   "cell_type": "code",
   "execution_count": null,
   "id": "ee689f0a",
   "metadata": {
    "id": "ee689f0a",
    "outputId": "aaac8619-c936-45cc-ef04-e26b28fcb5ea"
   },
   "outputs": [
    {
     "data": {
      "image/png": "[encoded data removed]",
      "text/plain": [
       "<Figure size 1080x576 with 1 Axes>"
      ]
     },
     "metadata": {
      "needs_background": "light"
     },
     "output_type": "display_data"
    }
   ],
   "source": [
    "plt.figure(figsize=(15, 8))\n",
    "plt.plot(range(len(Y_test)), pred_test, c='r', label='model');\n",
    "plt.scatter(range(len(Y_test)), Y_test, label='test data')\n",
    "plt.legend();"
   ]
  },
  {
   "cell_type": "code",
   "execution_count": null,
   "id": "fed896f1",
   "metadata": {
    "id": "fed896f1",
    "outputId": "a46c9ae1-5273-4ffb-d666-c798412c3622"
   },
   "outputs": [
    {
     "name": "stdout",
     "output_type": "stream",
     "text": [
      "CV mean score: 0.8437720479840973\n"
     ]
    }
   ],
   "source": [
    "cv_score = cross_val_score(br, X_train, Y_train, cv = 5)\n",
    "print(\"CV mean score:\", cv_score.mean())"
   ]
  },
  {
   "cell_type": "markdown",
   "id": "908ef2e1",
   "metadata": {
    "id": "908ef2e1"
   },
   "source": [
    "<font size = 2><div style=\"text-align: justify\">**GridSearchCV:**</div></font>"
   ]
  },
  {
   "cell_type": "code",
   "execution_count": null,
   "id": "28e6fbdf",
   "metadata": {
    "id": "28e6fbdf"
   },
   "outputs": [],
   "source": [
    "X = df_v1[['LN(Общая площадь)', 'Площадь кухни', 'Жилая площадь', 'Этаж 1', 'Этажей в доме', \n",
    "           'Хронологический возраст', 'Долгота', 'Широта', 'Тип санузла 2', \n",
    "           '1к', '2к', '3к', '4к и более', 'студия', 'первый', 'последний', 'средний', \n",
    "           'деревянный', 'кирпичный', 'монолитный', 'панельный', \n",
    "           'дизайнерский', 'евро', 'косметический', 'требует ремонта']]\n",
    "\n",
    "Y = df_v1['LN(Цена)']\n",
    "\n",
    "# Делим имеющуюся выборку на обучающую и тестовую\n",
    "X_train, X_test, Y_train, Y_test = train_test_split(X, Y, test_size=0.2, random_state=0)"
   ]
  },
  {
   "cell_type": "code",
   "execution_count": null,
   "id": "0b3aeb63",
   "metadata": {
    "id": "0b3aeb63",
    "outputId": "98e4c963-1ef4-450b-9b6a-1ad0cdc46ff2"
   },
   "outputs": [
    {
     "data": {
      "text/plain": [
       "(2399, 2399)"
      ]
     },
     "execution_count": 48,
     "metadata": {},
     "output_type": "execute_result"
    }
   ],
   "source": [
    "df.shape[0], df.shape[0]"
   ]
  },
  {
   "cell_type": "code",
   "execution_count": null,
   "id": "30509131",
   "metadata": {
    "id": "30509131",
    "outputId": "34c0f944-54d9-4a00-eed8-ebaacaeafaaf"
   },
   "outputs": [
    {
     "name": "stdout",
     "output_type": "stream",
     "text": [
      "Fitting 3 folds for each of 40 candidates, totalling 120 fits\n"
     ]
    },
    {
     "name": "stderr",
     "output_type": "stream",
     "text": [
      "C:\\anaconda3\\lib\\site-packages\\joblib\\externals\\loky\\process_executor.py:702: UserWarning: A worker stopped while some jobs were given to the executor. This can be caused by a too short worker timeout or by a memory leak.\n",
      "  warnings.warn(\n"
     ]
    },
    {
     "name": "stdout",
     "output_type": "stream",
     "text": [
      "Train R^2 Score : 0.985\n",
      "Test R^2 Score : 0.887\n",
      "Best R^2 Score Through Grid Search : 0.875\n",
      "Best Parameters :  {'bootstrap': False, 'max_samples': 1.0, 'n_estimators': 200}\n",
      "CPU times: total: 4min 46s\n",
      "Wall time: 1h 12min 58s\n"
     ]
    }
   ],
   "source": [
    "%%time\n",
    "#None = DecisionTreeRegressor\n",
    "#n_samples = df.shape[0]\n",
    "#n_features = df.shape[1]\n",
    "\n",
    "base_estimator = RandomForestRegressor() #KNeighborsRegressor(), CatBoostRegressor(), XGBRegressor(),\n",
    "\n",
    "param_grid = {#'base_estimator': [None, RandomForestRegressor()],\n",
    "              'n_estimators': [20, 50, 100, 150, 200], #количество оценщиков (моделей), которые будут объединяться\n",
    "              'max_samples': [0.15, 0.25, 0.5, 1.0], #доля используемых данных для bootstrap, n_samples//2\n",
    "              #'max_features': [0.5, 1.0, n_features//2], #доля используемых фичей\n",
    "              'bootstrap': [True, False],\n",
    "              #'bootstrap_features': [True, False]\n",
    "              }\n",
    "\n",
    "brg = GridSearchCV(BaggingRegressor(base_estimator = base_estimator, random_state = 1, n_jobs = -1), \n",
    "                                    param_grid = param_grid, \n",
    "                                    cv = 3, \n",
    "                                    n_jobs = -1, \n",
    "                                    verbose = 1)\n",
    "\n",
    "brg.fit(X_train, Y_train)\n",
    "\n",
    "print('Train R^2 Score : %.3f'% brg.best_estimator_.score(X_train, Y_train))\n",
    "print('Test R^2 Score : %.3f'% brg.best_estimator_.score(X_test, Y_test))\n",
    "print('Best R^2 Score Through Grid Search : %.3f'% brg.best_score_)\n",
    "print('Best Parameters : ', brg.best_params_)"
   ]
  },
  {
   "cell_type": "code",
   "execution_count": null,
   "id": "9b2ea1f4",
   "metadata": {
    "id": "9b2ea1f4",
    "outputId": "c3ab0c42-cb21-4384-ce2d-ea446c1e35a9"
   },
   "outputs": [
    {
     "name": "stdout",
     "output_type": "stream",
     "text": [
      "Number of Various Combinations of Parameters Tried: 40\n"
     ]
    },
    {
     "data": {
      "text/html": [
       "<div>\n",
       "<style scoped>\n",
       "    .dataframe tbody tr th:only-of-type {\n",
       "        vertical-align: middle;\n",
       "    }\n",
       "\n",
       "    .dataframe tbody tr th {\n",
       "        vertical-align: top;\n",
       "    }\n",
       "\n",
       "    .dataframe thead th {\n",
       "        text-align: right;\n",
       "    }\n",
       "</style>\n",
       "<table border=\"1\" class=\"dataframe\">\n",
       "  <thead>\n",
       "    <tr style=\"text-align: right;\">\n",
       "      <th></th>\n",
       "      <th>mean_fit_time</th>\n",
       "      <th>std_fit_time</th>\n",
       "      <th>mean_score_time</th>\n",
       "      <th>std_score_time</th>\n",
       "      <th>param_bootstrap</th>\n",
       "      <th>param_max_samples</th>\n",
       "      <th>param_n_estimators</th>\n",
       "      <th>params</th>\n",
       "      <th>split0_test_score</th>\n",
       "      <th>split1_test_score</th>\n",
       "      <th>split2_test_score</th>\n",
       "      <th>mean_test_score</th>\n",
       "      <th>std_test_score</th>\n",
       "      <th>rank_test_score</th>\n",
       "    </tr>\n",
       "  </thead>\n",
       "  <tbody>\n",
       "    <tr>\n",
       "      <th>0</th>\n",
       "      <td>3.665080</td>\n",
       "      <td>0.142381</td>\n",
       "      <td>0.265562</td>\n",
       "      <td>0.012753</td>\n",
       "      <td>True</td>\n",
       "      <td>0.15</td>\n",
       "      <td>20</td>\n",
       "      <td>{'bootstrap': True, 'max_samples': 0.15, 'n_es...</td>\n",
       "      <td>0.833772</td>\n",
       "      <td>0.818832</td>\n",
       "      <td>0.818263</td>\n",
       "      <td>0.823622</td>\n",
       "      <td>0.007181</td>\n",
       "      <td>37</td>\n",
       "    </tr>\n",
       "    <tr>\n",
       "      <th>1</th>\n",
       "      <td>8.998119</td>\n",
       "      <td>0.175595</td>\n",
       "      <td>0.805749</td>\n",
       "      <td>0.070685</td>\n",
       "      <td>True</td>\n",
       "      <td>0.15</td>\n",
       "      <td>50</td>\n",
       "      <td>{'bootstrap': True, 'max_samples': 0.15, 'n_es...</td>\n",
       "      <td>0.835748</td>\n",
       "      <td>0.819538</td>\n",
       "      <td>0.815980</td>\n",
       "      <td>0.823755</td>\n",
       "      <td>0.008603</td>\n",
       "      <td>36</td>\n",
       "    </tr>\n",
       "    <tr>\n",
       "      <th>2</th>\n",
       "      <td>18.069148</td>\n",
       "      <td>0.454869</td>\n",
       "      <td>1.549753</td>\n",
       "      <td>0.068228</td>\n",
       "      <td>True</td>\n",
       "      <td>0.15</td>\n",
       "      <td>100</td>\n",
       "      <td>{'bootstrap': True, 'max_samples': 0.15, 'n_es...</td>\n",
       "      <td>0.836347</td>\n",
       "      <td>0.821378</td>\n",
       "      <td>0.813036</td>\n",
       "      <td>0.823587</td>\n",
       "      <td>0.009644</td>\n",
       "      <td>38</td>\n",
       "    </tr>\n",
       "    <tr>\n",
       "      <th>3</th>\n",
       "      <td>27.570563</td>\n",
       "      <td>0.284884</td>\n",
       "      <td>2.184307</td>\n",
       "      <td>0.052327</td>\n",
       "      <td>True</td>\n",
       "      <td>0.15</td>\n",
       "      <td>150</td>\n",
       "      <td>{'bootstrap': True, 'max_samples': 0.15, 'n_es...</td>\n",
       "      <td>0.835156</td>\n",
       "      <td>0.820743</td>\n",
       "      <td>0.811223</td>\n",
       "      <td>0.822374</td>\n",
       "      <td>0.009838</td>\n",
       "      <td>40</td>\n",
       "    </tr>\n",
       "    <tr>\n",
       "      <th>4</th>\n",
       "      <td>33.549518</td>\n",
       "      <td>0.246523</td>\n",
       "      <td>3.129062</td>\n",
       "      <td>0.125617</td>\n",
       "      <td>True</td>\n",
       "      <td>0.15</td>\n",
       "      <td>200</td>\n",
       "      <td>{'bootstrap': True, 'max_samples': 0.15, 'n_es...</td>\n",
       "      <td>0.835568</td>\n",
       "      <td>0.820169</td>\n",
       "      <td>0.811684</td>\n",
       "      <td>0.822473</td>\n",
       "      <td>0.009886</td>\n",
       "      <td>39</td>\n",
       "    </tr>\n",
       "  </tbody>\n",
       "</table>\n",
       "</div>"
      ],
      "text/plain": [
       "   mean_fit_time  std_fit_time  mean_score_time  std_score_time  \\\n",
       "0       3.665080      0.142381         0.265562        0.012753   \n",
       "1       8.998119      0.175595         0.805749        0.070685   \n",
       "2      18.069148      0.454869         1.549753        0.068228   \n",
       "3      27.570563      0.284884         2.184307        0.052327   \n",
       "4      33.549518      0.246523         3.129062        0.125617   \n",
       "\n",
       "  param_bootstrap param_max_samples param_n_estimators  \\\n",
       "0            True              0.15                 20   \n",
       "1            True              0.15                 50   \n",
       "2            True              0.15                100   \n",
       "3            True              0.15                150   \n",
       "4            True              0.15                200   \n",
       "\n",
       "                                              params  split0_test_score  \\\n",
       "0  {'bootstrap': True, 'max_samples': 0.15, 'n_es...           0.833772   \n",
       "1  {'bootstrap': True, 'max_samples': 0.15, 'n_es...           0.835748   \n",
       "2  {'bootstrap': True, 'max_samples': 0.15, 'n_es...           0.836347   \n",
       "3  {'bootstrap': True, 'max_samples': 0.15, 'n_es...           0.835156   \n",
       "4  {'bootstrap': True, 'max_samples': 0.15, 'n_es...           0.835568   \n",
       "\n",
       "   split1_test_score  split2_test_score  mean_test_score  std_test_score  \\\n",
       "0           0.818832           0.818263         0.823622        0.007181   \n",
       "1           0.819538           0.815980         0.823755        0.008603   \n",
       "2           0.821378           0.813036         0.823587        0.009644   \n",
       "3           0.820743           0.811223         0.822374        0.009838   \n",
       "4           0.820169           0.811684         0.822473        0.009886   \n",
       "\n",
       "   rank_test_score  \n",
       "0               37  \n",
       "1               36  \n",
       "2               38  \n",
       "3               40  \n",
       "4               39  "
      ]
     },
     "execution_count": 50,
     "metadata": {},
     "output_type": "execute_result"
    }
   ],
   "source": [
    "cross_val_results = pd.DataFrame(brg.cv_results_)\n",
    "print('Number of Various Combinations of Parameters Tried: %d'% len(cross_val_results))\n",
    "\n",
    "cross_val_results.head()"
   ]
  },
  {
   "cell_type": "code",
   "execution_count": null,
   "id": "f0159862",
   "metadata": {
    "id": "f0159862"
   },
   "outputs": [],
   "source": [
    "#Сохраняем в Excel\n",
    "writer = pd.ExcelWriter('Bagging_Киров_1.xlsx')\n",
    "cross_val_results.to_excel(writer, 'bgr')\n",
    "writer.save()"
   ]
  },
  {
   "cell_type": "markdown",
   "id": "698090bc",
   "metadata": {
    "id": "698090bc"
   },
   "source": [
    "<font size = 2><div style=\"text-align: justify\">**KNeighborsRegressor:**</div></font>"
   ]
  },
  {
   "cell_type": "code",
   "execution_count": null,
   "id": "8a92d114",
   "metadata": {
    "id": "8a92d114"
   },
   "outputs": [],
   "source": [
    "#X = df_v1[['Общая площадь', 'Площадь кухни', 'Жилая площадь', 'Этаж 1', 'Этажей в доме', \n",
    "#           'Хронологический возраст', 'Долгота', 'Широта', 'pca(координата)', 'Тип санузла 2', \n",
    "#           '1к', '2к', '3к', '4к и более', 'студия', 'первый', 'последний', 'средний', \n",
    "#           'деревянный', 'кирпичный', 'монолитный', 'панельный', \n",
    "#           'дизайнерский', 'евро', 'косметический', 'требует ремонта']]\n",
    "X = df_v1[['LN(Общая площадь)', 'Площадь кухни', 'Жилая площадь', 'Этаж 1', 'Этажей в доме', \n",
    "           'Хронологический возраст', 'Долгота', 'Широта', 'Тип санузла 2', \n",
    "           '1к', '2к', '3к', '4к и более', 'студия', 'первый', 'последний', 'средний', \n",
    "           'деревянный', 'кирпичный', 'монолитный', 'панельный', \n",
    "           'дизайнерский', 'евро', 'косметический', 'требует ремонта']]\n",
    "\n",
    "#Y = df_v1['Цена']\n",
    "Y = df_v1['LN(Цена)']\n",
    "\n",
    "# Делим имеющуюся выборку на обучающую и тестовую\n",
    "X_train, X_test, Y_train, Y_test = train_test_split(X, Y, test_size=0.2, random_state=0)"
   ]
  },
  {
   "cell_type": "code",
   "execution_count": null,
   "id": "889ace0c",
   "metadata": {
    "id": "889ace0c",
    "outputId": "a513ffe8-de2b-47b1-b5f8-fe9630e3f45d"
   },
   "outputs": [
    {
     "name": "stdout",
     "output_type": "stream",
     "text": [
      "Train R2 0.775\n",
      "Test R2 0.754\n",
      "Разница 0.021\n",
      "MAE train: 0.181\n",
      "MAE test: 0.191\n",
      "CPU times: total: 20.3 s\n",
      "Wall time: 5.57 s\n"
     ]
    }
   ],
   "source": [
    "%%time\n",
    "\n",
    "knn = KNeighborsRegressor()\n",
    "\n",
    "br = BaggingRegressor(base_estimator = knn, \n",
    "                      n_estimators = 150, \n",
    "                      bootstrap = True, \n",
    "                      max_samples = 0.20, \n",
    "                      random_state = 1)\n",
    "\n",
    "br.fit(X_train, Y_train)\n",
    "\n",
    "pred_train = br.predict(X_train)\n",
    "pred_test = br.predict(X_test)\n",
    "\n",
    "print(f'Train R2 {r2_score(Y_train, pred_train):.3f}')\n",
    "print(f'Test R2 {r2_score(Y_test, pred_test):.3f}')\n",
    "print(f'Разница {r2_score(Y_train, pred_train) - r2_score(Y_test, pred_test):.3f}')\n",
    "\n",
    "print(f'MAE train: {mae(Y_train, pred_train):.3f}')\n",
    "print(f'MAE test: {mae(Y_test, pred_test):.3f}')"
   ]
  },
  {
   "cell_type": "markdown",
   "id": "2b8e7577",
   "metadata": {
    "id": "2b8e7577"
   },
   "source": [
    "<font size = 2><div style=\"text-align: justify\">**XGBRegressor:**</div></font>"
   ]
  },
  {
   "cell_type": "code",
   "execution_count": null,
   "id": "ca7a34da",
   "metadata": {
    "id": "ca7a34da"
   },
   "outputs": [],
   "source": [
    "#X = df_v1[['Общая площадь', 'Площадь кухни', 'Жилая площадь', 'Этаж 1', 'Этажей в доме', \n",
    "#           'Хронологический возраст', 'Долгота', 'Широта', 'pca(координата)', 'Тип санузла 2', \n",
    "#           '1к', '2к', '3к', '4к и более', 'студия', 'первый', 'последний', 'средний', \n",
    "#           'деревянный', 'кирпичный', 'монолитный', 'панельный', \n",
    "#           'дизайнерский', 'евро', 'косметический', 'требует ремонта']]\n",
    "X = df_v1[['LN(Общая площадь)', 'Площадь кухни', 'Жилая площадь', 'Этаж 1', 'Этажей в доме', \n",
    "           'Хронологический возраст', 'Долгота', 'Широта', 'Тип санузла 2', \n",
    "           '1к', '2к', '3к', '4к и более', 'студия', 'первый', 'последний', 'средний', \n",
    "           'деревянный', 'кирпичный', 'монолитный', 'панельный', \n",
    "           'дизайнерский', 'евро', 'косметический', 'требует ремонта']]\n",
    "\n",
    "#Y = df_v1['Цена']\n",
    "Y = df_v1['LN(Цена)']\n",
    "\n",
    "# Делим имеющуюся выборку на обучающую и тестовую\n",
    "X_train, X_test, Y_train, Y_test = train_test_split(X, Y, test_size=0.2, random_state=0)"
   ]
  },
  {
   "cell_type": "code",
   "execution_count": null,
   "id": "c2eb8087",
   "metadata": {
    "id": "c2eb8087",
    "outputId": "53adb29c-f482-4a1d-8d51-8fb14bcc0083"
   },
   "outputs": [
    {
     "name": "stdout",
     "output_type": "stream",
     "text": [
      "Train R2 0.930\n",
      "Test R2 0.908\n",
      "Разница 0.022\n",
      "MAE train: 0.100\n",
      "MAE test: 0.117\n",
      "CPU times: total: 1min 47s\n",
      "Wall time: 27.6 s\n"
     ]
    }
   ],
   "source": [
    "%%time\n",
    "\n",
    "xgb = XGBRegressor()\n",
    "\n",
    "br = BaggingRegressor(base_estimator = xgb, \n",
    "                      n_estimators = 100, \n",
    "                      bootstrap = True, \n",
    "                      max_samples = 0.20, \n",
    "                      random_state = 1)\n",
    "\n",
    "br.fit(X_train, Y_train)\n",
    "\n",
    "pred_train = br.predict(X_train)\n",
    "pred_test = br.predict(X_test)\n",
    "\n",
    "print(f'Train R2 {r2_score(Y_train, pred_train):.3f}')\n",
    "print(f'Test R2 {r2_score(Y_test, pred_test):.3f}')\n",
    "print(f'Разница {r2_score(Y_train, pred_train) - r2_score(Y_test, pred_test):.3f}')\n",
    "\n",
    "print(f'MAE train: {mae(Y_train, pred_train):.3f}')\n",
    "print(f'MAE test: {mae(Y_test, pred_test):.3f}')"
   ]
  },
  {
   "cell_type": "code",
   "execution_count": null,
   "id": "32cfa6ca",
   "metadata": {
    "id": "32cfa6ca",
    "outputId": "6fe42848-46a4-4554-9406-b3b98eae1f6b"
   },
   "outputs": [
    {
     "data": {
      "text/plain": [
       "{'base_estimator__objective': 'reg:squarederror',\n",
       " 'base_estimator__base_score': None,\n",
       " 'base_estimator__booster': None,\n",
       " 'base_estimator__callbacks': None,\n",
       " 'base_estimator__colsample_bylevel': None,\n",
       " 'base_estimator__colsample_bynode': None,\n",
       " 'base_estimator__colsample_bytree': None,\n",
       " 'base_estimator__early_stopping_rounds': None,\n",
       " 'base_estimator__enable_categorical': False,\n",
       " 'base_estimator__eval_metric': None,\n",
       " 'base_estimator__gamma': None,\n",
       " 'base_estimator__gpu_id': None,\n",
       " 'base_estimator__grow_policy': None,\n",
       " 'base_estimator__importance_type': None,\n",
       " 'base_estimator__interaction_constraints': None,\n",
       " 'base_estimator__learning_rate': None,\n",
       " 'base_estimator__max_bin': None,\n",
       " 'base_estimator__max_cat_to_onehot': None,\n",
       " 'base_estimator__max_delta_step': None,\n",
       " 'base_estimator__max_depth': None,\n",
       " 'base_estimator__max_leaves': None,\n",
       " 'base_estimator__min_child_weight': None,\n",
       " 'base_estimator__missing': nan,\n",
       " 'base_estimator__monotone_constraints': None,\n",
       " 'base_estimator__n_estimators': 100,\n",
       " 'base_estimator__n_jobs': None,\n",
       " 'base_estimator__num_parallel_tree': None,\n",
       " 'base_estimator__predictor': None,\n",
       " 'base_estimator__random_state': None,\n",
       " 'base_estimator__reg_alpha': None,\n",
       " 'base_estimator__reg_lambda': None,\n",
       " 'base_estimator__sampling_method': None,\n",
       " 'base_estimator__scale_pos_weight': None,\n",
       " 'base_estimator__subsample': None,\n",
       " 'base_estimator__tree_method': None,\n",
       " 'base_estimator__validate_parameters': None,\n",
       " 'base_estimator__verbosity': None,\n",
       " 'base_estimator': XGBRegressor(base_score=None, booster=None, callbacks=None,\n",
       "              colsample_bylevel=None, colsample_bynode=None,\n",
       "              colsample_bytree=None, early_stopping_rounds=None,\n",
       "              enable_categorical=False, eval_metric=None, gamma=None,\n",
       "              gpu_id=None, grow_policy=None, importance_type=None,\n",
       "              interaction_constraints=None, learning_rate=None, max_bin=None,\n",
       "              max_cat_to_onehot=None, max_delta_step=None, max_depth=None,\n",
       "              max_leaves=None, min_child_weight=None, missing=nan,\n",
       "              monotone_constraints=None, n_estimators=100, n_jobs=None,\n",
       "              num_parallel_tree=None, predictor=None, random_state=None,\n",
       "              reg_alpha=None, reg_lambda=None, ...),\n",
       " 'bootstrap': True,\n",
       " 'bootstrap_features': False,\n",
       " 'max_features': 1.0,\n",
       " 'max_samples': 0.2,\n",
       " 'n_estimators': 100,\n",
       " 'n_jobs': None,\n",
       " 'oob_score': False,\n",
       " 'random_state': 1,\n",
       " 'verbose': 0,\n",
       " 'warm_start': False}"
      ]
     },
     "execution_count": 95,
     "metadata": {},
     "output_type": "execute_result"
    }
   ],
   "source": [
    "br.get_params()"
   ]
  },
  {
   "cell_type": "code",
   "execution_count": null,
   "id": "009e072d",
   "metadata": {
    "id": "009e072d",
    "outputId": "fa8fb0a0-dc87-4ae7-f9b8-107c52f34f98"
   },
   "outputs": [
    {
     "data": {
      "image/png": "[encoded data removed]",
      "text/plain": [
       "<Figure size 1080x576 with 1 Axes>"
      ]
     },
     "metadata": {
      "needs_background": "light"
     },
     "output_type": "display_data"
    }
   ],
   "source": [
    "plt.figure(figsize=(15, 8))\n",
    "plt.plot(range(len(Y_test)), pred_test, c='r', label='model');\n",
    "plt.scatter(range(len(Y_test)), Y_test, label='test data')\n",
    "plt.legend();"
   ]
  },
  {
   "cell_type": "code",
   "execution_count": null,
   "id": "df74f461",
   "metadata": {
    "id": "df74f461",
    "outputId": "fd79b75b-450b-4cfb-fbfe-4cf4cdd63e81"
   },
   "outputs": [
    {
     "name": "stdout",
     "output_type": "stream",
     "text": [
      "CV mean score: 0.8881855532298948\n"
     ]
    }
   ],
   "source": [
    "cv_score = cross_val_score(br, X_train, Y_train, cv = 5)\n",
    "print(\"CV mean score:\", cv_score.mean())"
   ]
  },
  {
   "cell_type": "code",
   "execution_count": 29,
   "id": "a1fae2ce",
   "metadata": {},
   "outputs": [],
   "source": [
    "#X = df_v1[['Общая площадь', 'Площадь кухни', 'Жилая площадь', 'Этаж 1', 'Этажей в доме', \n",
    "#           'Хронологический возраст', 'Долгота', 'Широта', 'pca(координата)', 'Тип санузла 2', \n",
    "#           '1к', '2к', '3к', '4к и более', 'студия', 'первый', 'последний', 'средний', \n",
    "#           'деревянный', 'кирпичный', 'монолитный', 'панельный', \n",
    "#           'дизайнерский', 'евро', 'косметический', 'требует ремонта']]\n",
    "#X = df_v1[['LN(Общая площадь)', 'Площадь кухни', 'Жилая площадь', 'Этаж 1', 'Этажей в доме', \n",
    "#           'Хронологический возраст', 'Долгота', 'Широта', 'Тип санузла 2', \n",
    "#           '1к', '2к', '3к', '4к и более', 'студия', 'первый', 'последний', 'средний', \n",
    "#           'деревянный', 'кирпичный', 'монолитный', 'панельный', \n",
    "#           'дизайнерский', 'евро', 'косметический', 'требует ремонта']]\n",
    "\n",
    "X = df_v1[['LN(Общая площадь)', 'Площадь кухни', 'Этажей в доме', \n",
    "           'Хронологический возраст', 'Долгота', 'Широта', \n",
    "           'дизайнерский', 'евро', 'косметический', 'требует ремонта']]\n",
    "\n",
    "#Y = df_v1['Цена']\n",
    "Y = df_v1['LN(Цена)']\n",
    "\n",
    "# Делим имеющуюся выборку на обучающую и тестовую\n",
    "X_train, X_test, Y_train, Y_test = train_test_split(X, Y, test_size=0.2, random_state=0)"
   ]
  },
  {
   "cell_type": "code",
   "execution_count": 30,
   "id": "bd12f7bb",
   "metadata": {},
   "outputs": [
    {
     "name": "stdout",
     "output_type": "stream",
     "text": [
      "Train R2 0.930\n",
      "Test R2 0.908\n",
      "Разница 0.022\n",
      "MAE train: 0.100\n",
      "MAE test: 0.117\n",
      "CPU times: total: 53.2 s\n",
      "Wall time: 13.6 s\n"
     ]
    }
   ],
   "source": [
    "%%time\n",
    "\n",
    "xgb = XGBRegressor()\n",
    "\n",
    "br = BaggingRegressor(base_estimator = xgb, \n",
    "                      n_estimators = 100, \n",
    "                      bootstrap = True, \n",
    "                      max_samples = 0.20, \n",
    "                      random_state = 1)\n",
    "\n",
    "br.fit(X_train, Y_train)\n",
    "\n",
    "pred_train = br.predict(X_train)\n",
    "pred_test = br.predict(X_test)\n",
    "\n",
    "print(f'Train R2 {r2_score(Y_train, pred_train):.3f}')\n",
    "print(f'Test R2 {r2_score(Y_test, pred_test):.3f}')\n",
    "print(f'Разница {r2_score(Y_train, pred_train) - r2_score(Y_test, pred_test):.3f}')\n",
    "\n",
    "print(f'MAE train: {mae(Y_train, pred_train):.3f}')\n",
    "print(f'MAE test: {mae(Y_test, pred_test):.3f}')"
   ]
  },
  {
   "cell_type": "code",
   "execution_count": 31,
   "id": "c1379de6",
   "metadata": {},
   "outputs": [],
   "source": [
    "X = df_v1[['LN(Общая площадь)', 'Площадь кухни', 'Этажей в доме', \n",
    "           'Хронологический возраст', 'Долгота', 'Широта', \n",
    "           'дизайнерский', 'евро', 'косметический', 'требует ремонта']]\n",
    "\n",
    "#Y = df_v1['Цена']\n",
    "Y = df_v1['LN(Цена)']\n",
    "\n",
    "# Делим имеющуюся выборку на обучающую и тестовую\n",
    "X_train, X_test, Y_train, Y_test = train_test_split(X, Y, test_size=0.2, random_state=0)"
   ]
  },
  {
   "cell_type": "code",
   "execution_count": 32,
   "id": "8b7247eb",
   "metadata": {},
   "outputs": [
    {
     "data": {
      "text/plain": [
       "StandardScaler()"
      ]
     },
     "execution_count": 32,
     "metadata": {},
     "output_type": "execute_result"
    }
   ],
   "source": [
    "mms_2 = StandardScaler()\n",
    "mms_2.fit(X_train)"
   ]
  },
  {
   "cell_type": "code",
   "execution_count": 33,
   "id": "aa349e81",
   "metadata": {},
   "outputs": [
    {
     "data": {
      "text/html": [
       "<div>\n",
       "<style scoped>\n",
       "    .dataframe tbody tr th:only-of-type {\n",
       "        vertical-align: middle;\n",
       "    }\n",
       "\n",
       "    .dataframe tbody tr th {\n",
       "        vertical-align: top;\n",
       "    }\n",
       "\n",
       "    .dataframe thead th {\n",
       "        text-align: right;\n",
       "    }\n",
       "</style>\n",
       "<table border=\"1\" class=\"dataframe\">\n",
       "  <thead>\n",
       "    <tr style=\"text-align: right;\">\n",
       "      <th></th>\n",
       "      <th>LN(Общая площадь)</th>\n",
       "      <th>Площадь кухни</th>\n",
       "      <th>Этажей в доме</th>\n",
       "      <th>Хронологический возраст</th>\n",
       "      <th>Долгота</th>\n",
       "      <th>Широта</th>\n",
       "      <th>дизайнерский</th>\n",
       "      <th>евро</th>\n",
       "      <th>косметический</th>\n",
       "      <th>требует ремонта</th>\n",
       "    </tr>\n",
       "  </thead>\n",
       "  <tbody>\n",
       "    <tr>\n",
       "      <th>0</th>\n",
       "      <td>-0.855906</td>\n",
       "      <td>-0.083902</td>\n",
       "      <td>-0.603916</td>\n",
       "      <td>-1.163387</td>\n",
       "      <td>-1.644071</td>\n",
       "      <td>-0.259628</td>\n",
       "      <td>-0.283757</td>\n",
       "      <td>-0.663845</td>\n",
       "      <td>1.149102</td>\n",
       "      <td>-0.482181</td>\n",
       "    </tr>\n",
       "    <tr>\n",
       "      <th>1</th>\n",
       "      <td>-0.310568</td>\n",
       "      <td>0.367422</td>\n",
       "      <td>1.285106</td>\n",
       "      <td>-0.881412</td>\n",
       "      <td>0.029550</td>\n",
       "      <td>-0.572831</td>\n",
       "      <td>-0.283757</td>\n",
       "      <td>-0.663845</td>\n",
       "      <td>1.149102</td>\n",
       "      <td>-0.482181</td>\n",
       "    </tr>\n",
       "    <tr>\n",
       "      <th>2</th>\n",
       "      <td>-0.810547</td>\n",
       "      <td>-0.101955</td>\n",
       "      <td>1.285106</td>\n",
       "      <td>-0.928408</td>\n",
       "      <td>0.848453</td>\n",
       "      <td>2.046995</td>\n",
       "      <td>-0.283757</td>\n",
       "      <td>-0.663845</td>\n",
       "      <td>1.149102</td>\n",
       "      <td>-0.482181</td>\n",
       "    </tr>\n",
       "    <tr>\n",
       "      <th>3</th>\n",
       "      <td>1.220175</td>\n",
       "      <td>-0.282485</td>\n",
       "      <td>0.151693</td>\n",
       "      <td>0.387477</td>\n",
       "      <td>-1.042130</td>\n",
       "      <td>0.416620</td>\n",
       "      <td>-0.283757</td>\n",
       "      <td>-0.663845</td>\n",
       "      <td>1.149102</td>\n",
       "      <td>-0.482181</td>\n",
       "    </tr>\n",
       "    <tr>\n",
       "      <th>4</th>\n",
       "      <td>-1.037953</td>\n",
       "      <td>-0.643544</td>\n",
       "      <td>-0.037210</td>\n",
       "      <td>0.763444</td>\n",
       "      <td>-0.358958</td>\n",
       "      <td>0.638536</td>\n",
       "      <td>-0.283757</td>\n",
       "      <td>-0.663845</td>\n",
       "      <td>1.149102</td>\n",
       "      <td>-0.482181</td>\n",
       "    </tr>\n",
       "    <tr>\n",
       "      <th>...</th>\n",
       "      <td>...</td>\n",
       "      <td>...</td>\n",
       "      <td>...</td>\n",
       "      <td>...</td>\n",
       "      <td>...</td>\n",
       "      <td>...</td>\n",
       "      <td>...</td>\n",
       "      <td>...</td>\n",
       "      <td>...</td>\n",
       "      <td>...</td>\n",
       "    </tr>\n",
       "    <tr>\n",
       "      <th>1914</th>\n",
       "      <td>-0.268129</td>\n",
       "      <td>-0.643544</td>\n",
       "      <td>-0.792818</td>\n",
       "      <td>1.703362</td>\n",
       "      <td>-0.320211</td>\n",
       "      <td>-0.385173</td>\n",
       "      <td>-0.283757</td>\n",
       "      <td>-0.663845</td>\n",
       "      <td>1.149102</td>\n",
       "      <td>-0.482181</td>\n",
       "    </tr>\n",
       "    <tr>\n",
       "      <th>1915</th>\n",
       "      <td>0.220938</td>\n",
       "      <td>-0.101955</td>\n",
       "      <td>0.151693</td>\n",
       "      <td>-0.646432</td>\n",
       "      <td>0.759439</td>\n",
       "      <td>-0.177691</td>\n",
       "      <td>-0.283757</td>\n",
       "      <td>1.506375</td>\n",
       "      <td>-0.870245</td>\n",
       "      <td>-0.482181</td>\n",
       "    </tr>\n",
       "    <tr>\n",
       "      <th>1916</th>\n",
       "      <td>-2.037190</td>\n",
       "      <td>-0.463014</td>\n",
       "      <td>-0.037210</td>\n",
       "      <td>0.387477</td>\n",
       "      <td>0.387816</td>\n",
       "      <td>0.723955</td>\n",
       "      <td>-0.283757</td>\n",
       "      <td>-0.663845</td>\n",
       "      <td>1.149102</td>\n",
       "      <td>-0.482181</td>\n",
       "    </tr>\n",
       "    <tr>\n",
       "      <th>1917</th>\n",
       "      <td>1.200381</td>\n",
       "      <td>0.547951</td>\n",
       "      <td>1.474008</td>\n",
       "      <td>-0.740424</td>\n",
       "      <td>-0.006431</td>\n",
       "      <td>-0.671785</td>\n",
       "      <td>-0.283757</td>\n",
       "      <td>1.506375</td>\n",
       "      <td>-0.870245</td>\n",
       "      <td>-0.482181</td>\n",
       "    </tr>\n",
       "    <tr>\n",
       "      <th>1918</th>\n",
       "      <td>0.759000</td>\n",
       "      <td>-0.607438</td>\n",
       "      <td>-0.792818</td>\n",
       "      <td>-0.364457</td>\n",
       "      <td>-1.367594</td>\n",
       "      <td>-0.086543</td>\n",
       "      <td>3.524143</td>\n",
       "      <td>-0.663845</td>\n",
       "      <td>-0.870245</td>\n",
       "      <td>-0.482181</td>\n",
       "    </tr>\n",
       "  </tbody>\n",
       "</table>\n",
       "<p>1919 rows × 10 columns</p>\n",
       "</div>"
      ],
      "text/plain": [
       "      LN(Общая площадь)  Площадь кухни  Этажей в доме  \\\n",
       "0             -0.855906      -0.083902      -0.603916   \n",
       "1             -0.310568       0.367422       1.285106   \n",
       "2             -0.810547      -0.101955       1.285106   \n",
       "3              1.220175      -0.282485       0.151693   \n",
       "4             -1.037953      -0.643544      -0.037210   \n",
       "...                 ...            ...            ...   \n",
       "1914          -0.268129      -0.643544      -0.792818   \n",
       "1915           0.220938      -0.101955       0.151693   \n",
       "1916          -2.037190      -0.463014      -0.037210   \n",
       "1917           1.200381       0.547951       1.474008   \n",
       "1918           0.759000      -0.607438      -0.792818   \n",
       "\n",
       "      Хронологический возраст   Долгота    Широта  дизайнерский      евро  \\\n",
       "0                   -1.163387 -1.644071 -0.259628     -0.283757 -0.663845   \n",
       "1                   -0.881412  0.029550 -0.572831     -0.283757 -0.663845   \n",
       "2                   -0.928408  0.848453  2.046995     -0.283757 -0.663845   \n",
       "3                    0.387477 -1.042130  0.416620     -0.283757 -0.663845   \n",
       "4                    0.763444 -0.358958  0.638536     -0.283757 -0.663845   \n",
       "...                       ...       ...       ...           ...       ...   \n",
       "1914                 1.703362 -0.320211 -0.385173     -0.283757 -0.663845   \n",
       "1915                -0.646432  0.759439 -0.177691     -0.283757  1.506375   \n",
       "1916                 0.387477  0.387816  0.723955     -0.283757 -0.663845   \n",
       "1917                -0.740424 -0.006431 -0.671785     -0.283757  1.506375   \n",
       "1918                -0.364457 -1.367594 -0.086543      3.524143 -0.663845   \n",
       "\n",
       "      косметический  требует ремонта  \n",
       "0          1.149102        -0.482181  \n",
       "1          1.149102        -0.482181  \n",
       "2          1.149102        -0.482181  \n",
       "3          1.149102        -0.482181  \n",
       "4          1.149102        -0.482181  \n",
       "...             ...              ...  \n",
       "1914       1.149102        -0.482181  \n",
       "1915      -0.870245        -0.482181  \n",
       "1916       1.149102        -0.482181  \n",
       "1917      -0.870245        -0.482181  \n",
       "1918      -0.870245        -0.482181  \n",
       "\n",
       "[1919 rows x 10 columns]"
      ]
     },
     "execution_count": 33,
     "metadata": {},
     "output_type": "execute_result"
    }
   ],
   "source": [
    "X_train_std = pd.DataFrame(mms_2.transform(X_train), columns = X_train.columns)\n",
    "X_train_std"
   ]
  },
  {
   "cell_type": "code",
   "execution_count": 34,
   "id": "2cc64e8e",
   "metadata": {},
   "outputs": [
    {
     "data": {
      "text/html": [
       "<div>\n",
       "<style scoped>\n",
       "    .dataframe tbody tr th:only-of-type {\n",
       "        vertical-align: middle;\n",
       "    }\n",
       "\n",
       "    .dataframe tbody tr th {\n",
       "        vertical-align: top;\n",
       "    }\n",
       "\n",
       "    .dataframe thead th {\n",
       "        text-align: right;\n",
       "    }\n",
       "</style>\n",
       "<table border=\"1\" class=\"dataframe\">\n",
       "  <thead>\n",
       "    <tr style=\"text-align: right;\">\n",
       "      <th></th>\n",
       "      <th>LN(Общая площадь)</th>\n",
       "      <th>Площадь кухни</th>\n",
       "      <th>Этажей в доме</th>\n",
       "      <th>Хронологический возраст</th>\n",
       "      <th>Долгота</th>\n",
       "      <th>Широта</th>\n",
       "      <th>дизайнерский</th>\n",
       "      <th>евро</th>\n",
       "      <th>косметический</th>\n",
       "      <th>требует ремонта</th>\n",
       "    </tr>\n",
       "  </thead>\n",
       "  <tbody>\n",
       "    <tr>\n",
       "      <th>0</th>\n",
       "      <td>-1.381153</td>\n",
       "      <td>-0.505138</td>\n",
       "      <td>-0.792818</td>\n",
       "      <td>0.434473</td>\n",
       "      <td>-3.915752</td>\n",
       "      <td>-1.979241</td>\n",
       "      <td>-0.283757</td>\n",
       "      <td>1.506375</td>\n",
       "      <td>-0.870245</td>\n",
       "      <td>-0.482181</td>\n",
       "    </tr>\n",
       "    <tr>\n",
       "      <th>1</th>\n",
       "      <td>1.143417</td>\n",
       "      <td>1.342281</td>\n",
       "      <td>1.285106</td>\n",
       "      <td>-1.116391</td>\n",
       "      <td>0.801345</td>\n",
       "      <td>2.159764</td>\n",
       "      <td>-0.283757</td>\n",
       "      <td>1.506375</td>\n",
       "      <td>-0.870245</td>\n",
       "      <td>-0.482181</td>\n",
       "    </tr>\n",
       "    <tr>\n",
       "      <th>2</th>\n",
       "      <td>2.878595</td>\n",
       "      <td>0.800692</td>\n",
       "      <td>-0.792818</td>\n",
       "      <td>-0.176473</td>\n",
       "      <td>0.876837</td>\n",
       "      <td>0.541267</td>\n",
       "      <td>3.524143</td>\n",
       "      <td>-0.663845</td>\n",
       "      <td>-0.870245</td>\n",
       "      <td>-0.482181</td>\n",
       "    </tr>\n",
       "    <tr>\n",
       "      <th>3</th>\n",
       "      <td>-0.127935</td>\n",
       "      <td>-0.643544</td>\n",
       "      <td>-1.359525</td>\n",
       "      <td>1.562375</td>\n",
       "      <td>-3.954892</td>\n",
       "      <td>-1.942962</td>\n",
       "      <td>-0.283757</td>\n",
       "      <td>-0.663845</td>\n",
       "      <td>-0.870245</td>\n",
       "      <td>2.073911</td>\n",
       "    </tr>\n",
       "    <tr>\n",
       "      <th>4</th>\n",
       "      <td>-1.005311</td>\n",
       "      <td>-0.643544</td>\n",
       "      <td>-0.792818</td>\n",
       "      <td>1.186407</td>\n",
       "      <td>-0.691833</td>\n",
       "      <td>0.423444</td>\n",
       "      <td>-0.283757</td>\n",
       "      <td>-0.663845</td>\n",
       "      <td>1.149102</td>\n",
       "      <td>-0.482181</td>\n",
       "    </tr>\n",
       "    <tr>\n",
       "      <th>...</th>\n",
       "      <td>...</td>\n",
       "      <td>...</td>\n",
       "      <td>...</td>\n",
       "      <td>...</td>\n",
       "      <td>...</td>\n",
       "      <td>...</td>\n",
       "      <td>...</td>\n",
       "      <td>...</td>\n",
       "      <td>...</td>\n",
       "      <td>...</td>\n",
       "    </tr>\n",
       "    <tr>\n",
       "      <th>475</th>\n",
       "      <td>0.010087</td>\n",
       "      <td>-0.463014</td>\n",
       "      <td>-0.792818</td>\n",
       "      <td>1.327395</td>\n",
       "      <td>-0.015514</td>\n",
       "      <td>-0.162556</td>\n",
       "      <td>-0.283757</td>\n",
       "      <td>-0.663845</td>\n",
       "      <td>1.149102</td>\n",
       "      <td>-0.482181</td>\n",
       "    </tr>\n",
       "    <tr>\n",
       "      <th>476</th>\n",
       "      <td>1.889396</td>\n",
       "      <td>-0.083902</td>\n",
       "      <td>-0.981720</td>\n",
       "      <td>0.152498</td>\n",
       "      <td>0.684895</td>\n",
       "      <td>0.171988</td>\n",
       "      <td>-0.283757</td>\n",
       "      <td>-0.663845</td>\n",
       "      <td>1.149102</td>\n",
       "      <td>-0.482181</td>\n",
       "    </tr>\n",
       "    <tr>\n",
       "      <th>477</th>\n",
       "      <td>0.996765</td>\n",
       "      <td>-0.101955</td>\n",
       "      <td>-0.037210</td>\n",
       "      <td>0.340481</td>\n",
       "      <td>0.737185</td>\n",
       "      <td>0.661954</td>\n",
       "      <td>-0.283757</td>\n",
       "      <td>-0.663845</td>\n",
       "      <td>-0.870245</td>\n",
       "      <td>2.073911</td>\n",
       "    </tr>\n",
       "    <tr>\n",
       "      <th>478</th>\n",
       "      <td>2.779389</td>\n",
       "      <td>0.475739</td>\n",
       "      <td>-1.359525</td>\n",
       "      <td>2.878259</td>\n",
       "      <td>0.253180</td>\n",
       "      <td>1.040415</td>\n",
       "      <td>-0.283757</td>\n",
       "      <td>-0.663845</td>\n",
       "      <td>-0.870245</td>\n",
       "      <td>2.073911</td>\n",
       "    </tr>\n",
       "    <tr>\n",
       "      <th>479</th>\n",
       "      <td>-0.202882</td>\n",
       "      <td>-0.751861</td>\n",
       "      <td>-0.792818</td>\n",
       "      <td>1.468383</td>\n",
       "      <td>0.146929</td>\n",
       "      <td>-0.031619</td>\n",
       "      <td>-0.283757</td>\n",
       "      <td>1.506375</td>\n",
       "      <td>-0.870245</td>\n",
       "      <td>-0.482181</td>\n",
       "    </tr>\n",
       "  </tbody>\n",
       "</table>\n",
       "<p>480 rows × 10 columns</p>\n",
       "</div>"
      ],
      "text/plain": [
       "     LN(Общая площадь)  Площадь кухни  Этажей в доме  Хронологический возраст  \\\n",
       "0            -1.381153      -0.505138      -0.792818                 0.434473   \n",
       "1             1.143417       1.342281       1.285106                -1.116391   \n",
       "2             2.878595       0.800692      -0.792818                -0.176473   \n",
       "3            -0.127935      -0.643544      -1.359525                 1.562375   \n",
       "4            -1.005311      -0.643544      -0.792818                 1.186407   \n",
       "..                 ...            ...            ...                      ...   \n",
       "475           0.010087      -0.463014      -0.792818                 1.327395   \n",
       "476           1.889396      -0.083902      -0.981720                 0.152498   \n",
       "477           0.996765      -0.101955      -0.037210                 0.340481   \n",
       "478           2.779389       0.475739      -1.359525                 2.878259   \n",
       "479          -0.202882      -0.751861      -0.792818                 1.468383   \n",
       "\n",
       "      Долгота    Широта  дизайнерский      евро  косметический  \\\n",
       "0   -3.915752 -1.979241     -0.283757  1.506375      -0.870245   \n",
       "1    0.801345  2.159764     -0.283757  1.506375      -0.870245   \n",
       "2    0.876837  0.541267      3.524143 -0.663845      -0.870245   \n",
       "3   -3.954892 -1.942962     -0.283757 -0.663845      -0.870245   \n",
       "4   -0.691833  0.423444     -0.283757 -0.663845       1.149102   \n",
       "..        ...       ...           ...       ...            ...   \n",
       "475 -0.015514 -0.162556     -0.283757 -0.663845       1.149102   \n",
       "476  0.684895  0.171988     -0.283757 -0.663845       1.149102   \n",
       "477  0.737185  0.661954     -0.283757 -0.663845      -0.870245   \n",
       "478  0.253180  1.040415     -0.283757 -0.663845      -0.870245   \n",
       "479  0.146929 -0.031619     -0.283757  1.506375      -0.870245   \n",
       "\n",
       "     требует ремонта  \n",
       "0          -0.482181  \n",
       "1          -0.482181  \n",
       "2          -0.482181  \n",
       "3           2.073911  \n",
       "4          -0.482181  \n",
       "..               ...  \n",
       "475        -0.482181  \n",
       "476        -0.482181  \n",
       "477         2.073911  \n",
       "478         2.073911  \n",
       "479        -0.482181  \n",
       "\n",
       "[480 rows x 10 columns]"
      ]
     },
     "execution_count": 34,
     "metadata": {},
     "output_type": "execute_result"
    }
   ],
   "source": [
    "X_test_std = pd.DataFrame(mms_2.transform(X_test), columns = X_test.columns)\n",
    "X_test_std"
   ]
  },
  {
   "cell_type": "code",
   "execution_count": 35,
   "id": "ec6feaa8",
   "metadata": {},
   "outputs": [
    {
     "name": "stdout",
     "output_type": "stream",
     "text": [
      "Train R2 0.930\n",
      "Test R2 0.908\n",
      "Разница 0.022\n",
      "MAE train: 0.100\n",
      "MAE test: 0.117\n",
      "CPU times: total: 53.1 s\n",
      "Wall time: 13.6 s\n"
     ]
    }
   ],
   "source": [
    "%%time\n",
    "\n",
    "xgb = XGBRegressor()\n",
    "\n",
    "br = BaggingRegressor(base_estimator = xgb, \n",
    "                      n_estimators = 100, \n",
    "                      bootstrap = True, \n",
    "                      max_samples = 0.20, \n",
    "                      random_state = 1)\n",
    "\n",
    "br.fit(X_train_std, Y_train)\n",
    "\n",
    "pred_train = br.predict(X_train_std)\n",
    "pred_test = br.predict(X_test_std)\n",
    "\n",
    "print(f'Train R2 {r2_score(Y_train, pred_train):.3f}')\n",
    "print(f'Test R2 {r2_score(Y_test, pred_test):.3f}')\n",
    "print(f'Разница {r2_score(Y_train, pred_train) - r2_score(Y_test, pred_test):.3f}')\n",
    "\n",
    "print(f'MAE train: {mae(Y_train, pred_train):.3f}')\n",
    "print(f'MAE test: {mae(Y_test, pred_test):.3f}')"
   ]
  },
  {
   "cell_type": "code",
   "execution_count": null,
   "id": "ca256a90",
   "metadata": {},
   "outputs": [],
   "source": []
  },
  {
   "cell_type": "markdown",
   "id": "e2ce70b3",
   "metadata": {
    "id": "e2ce70b3"
   },
   "source": [
    "<font size = 2><div style=\"text-align: justify\">**CatBoostRegressor:**</div></font>"
   ]
  },
  {
   "cell_type": "code",
   "execution_count": null,
   "id": "063c19de",
   "metadata": {
    "id": "063c19de"
   },
   "outputs": [],
   "source": [
    "#X = df_v1[['Общая площадь', 'Площадь кухни', 'Жилая площадь', 'Этаж 1', 'Этажей в доме', \n",
    "#           'Хронологический возраст', 'Долгота', 'Широта', 'pca(координата)', 'Тип санузла 2', \n",
    "#           '1к', '2к', '3к', '4к и более', 'студия', 'первый', 'последний', 'средний', \n",
    "#           'деревянный', 'кирпичный', 'монолитный', 'панельный', \n",
    "#           'дизайнерский', 'евро', 'косметический', 'требует ремонта']]\n",
    "X = df_v1[['LN(Общая площадь)', 'Площадь кухни', 'Жилая площадь', 'Этаж 1', 'Этажей в доме', \n",
    "           'Хронологический возраст', 'Долгота', 'Широта', 'Тип санузла 2', \n",
    "           '1к', '2к', '3к', '4к и более', 'студия', 'первый', 'последний', 'средний', \n",
    "           'деревянный', 'кирпичный', 'монолитный', 'панельный', \n",
    "           'дизайнерский', 'евро', 'косметический', 'требует ремонта']]\n",
    "\n",
    "#Y = df_v1['Цена']\n",
    "Y = df_v1['LN(Цена)']\n",
    "\n",
    "# Делим имеющуюся выборку на обучающую и тестовую\n",
    "X_train, X_test, Y_train, Y_test = train_test_split(X, Y, test_size=0.2, random_state=0)"
   ]
  },
  {
   "cell_type": "code",
   "execution_count": null,
   "id": "Djc1IGSMKDrM",
   "metadata": {
    "id": "Djc1IGSMKDrM"
   },
   "outputs": [],
   "source": [
    "%%time\n",
    "\n",
    "ctb = CatBoostRegressor()\n",
    "\n",
    "br = BaggingRegressor(base_estimator = ctb, \n",
    "                      n_estimators = 100, \n",
    "                      bootstrap = True, \n",
    "                      max_samples = 0.20, \n",
    "                      random_state = 1)\n",
    "\n",
    "br.fit(X_train, Y_train)\n",
    "\n",
    "pred_train = br.predict(X_train)\n",
    "pred_test = br.predict(X_test)\n",
    "\n",
    "print(f'Train R2 {r2_score(Y_train, pred_train):.3f}')\n",
    "print(f'Test R2 {r2_score(Y_test, pred_test):.3f}')\n",
    "print(f'Разница {r2_score(Y_train, pred_train) - r2_score(Y_test, pred_test):.3f}')\n",
    "\n",
    "print(f'MAE train: {mae(Y_train, pred_train):.3f}')\n",
    "print(f'MAE test: {mae(Y_test, pred_test):.3f}')\n",
    "\n",
    "#Train R2 0.927\n",
    "#Test R2 0.905\n",
    "#Разница 0.022"
   ]
  },
  {
   "cell_type": "code",
   "execution_count": null,
   "id": "155bfdaa",
   "metadata": {
    "id": "155bfdaa",
    "outputId": "ddf86eeb-1229-4c4a-ed1f-ee1e4d5d66b6"
   },
   "outputs": [
    {
     "data": {
      "image/png": "[encoded data removed]",
      "text/plain": [
       "<Figure size 1080x576 with 1 Axes>"
      ]
     },
     "metadata": {
      "needs_background": "light"
     },
     "output_type": "display_data"
    }
   ],
   "source": [
    "plt.figure(figsize=(15, 8))\n",
    "plt.plot(range(len(Y_test)), pred_test, c='r', label='model');\n",
    "plt.scatter(range(len(Y_test)), Y_test, label='test data')\n",
    "plt.legend();"
   ]
  },
  {
   "cell_type": "code",
   "execution_count": null,
   "id": "qGp2EfhGKH4D",
   "metadata": {
    "id": "qGp2EfhGKH4D"
   },
   "outputs": [],
   "source": [
    "cv_score = cross_val_score(br, X_train, Y_train, cv = 5)\n",
    "print(\"CV mean score:\", cv_score.mean())\n",
    "#средний R2 = 0,82"
   ]
  },
  {
   "cell_type": "markdown",
   "id": "4af0871d",
   "metadata": {},
   "source": [
    "<font size = 3><div style=\"text-align: justify\">**Вывод по выборке 1:**</div></font>"
   ]
  },
  {
   "cell_type": "markdown",
   "id": "51bd179e",
   "metadata": {},
   "source": [
    "Наилучший результат дал алгоритм XGBRegressor: на обучении 0,93, на тесте 0,908, кросс-валиация 0,888. Цена и общая площадь - логарифмированы (цену можно не логарифмировать). Выбросы не исключались. Также, хороший результат дает алгоритм CatBoostRegressor: на обучении 0,927, на тесте 0,905, кросс-валиация 0,82. Нормализация и стандартизация на результате не сказываются."
   ]
  },
  {
   "cell_type": "markdown",
   "id": "ddd26af5",
   "metadata": {
    "id": "2673bc7c"
   },
   "source": [
    "<font size = 3><div style=\"text-align: justify\">**Выборка 2:**</div></font>"
   ]
  },
  {
   "cell_type": "code",
   "execution_count": 4,
   "id": "092fa874",
   "metadata": {
    "id": "092fa874"
   },
   "outputs": [
    {
     "data": {
      "text/plain": [
       "2399"
      ]
     },
     "execution_count": 4,
     "metadata": {},
     "output_type": "execute_result"
    }
   ],
   "source": [
    "df_v2 = df.copy()\n",
    "len(df_v2)"
   ]
  },
  {
   "cell_type": "code",
   "execution_count": 5,
   "id": "49525601",
   "metadata": {
    "id": "49525601"
   },
   "outputs": [
    {
     "data": {
      "text/plain": [
       "2367"
      ]
     },
     "execution_count": 5,
     "metadata": {},
     "output_type": "execute_result"
    }
   ],
   "source": [
    "df_v2 = df.loc[df['Общая площадь'] < 175]\n",
    "df_v2 = df_v2.loc[df_v2['Площадь кухни'] < 45]\n",
    "df_v2 = df_v2.loc[df_v2['Жилая площадь'] < 80]\n",
    "df_v2 = df_v2.loc[df_v2['Хронологический возраст'] < 100]\n",
    "df_v2 = df_v2.loc[df_v2['Цена'] < 14800000]\n",
    "len(df_v2)"
   ]
  },
  {
   "cell_type": "code",
   "execution_count": 6,
   "id": "ac7e413f",
   "metadata": {
    "id": "ac7e413f"
   },
   "outputs": [],
   "source": [
    "#X = df_v2[['Общая площадь', 'Площадь кухни', 'Жилая площадь', 'Этаж 1', 'Этажей в доме', \n",
    "#           'Хронологический возраст', 'Долгота', 'Широта', 'pca(координата)', 'Тип санузла 2', \n",
    "#           '1к', '2к', '3к', '4к и более', 'студия', 'первый', 'последний', 'средний', \n",
    "#           'деревянный', 'кирпичный', 'монолитный', 'панельный', \n",
    "#           'дизайнерский', 'евро', 'косметический', 'требует ремонта']]\n",
    "X = df_v2[['LN(Общая площадь)', 'Площадь кухни', 'Жилая площадь', 'Этаж 1', 'Этажей в доме', \n",
    "           'Хронологический возраст', 'Долгота', 'Широта', 'Тип санузла 2', \n",
    "           '1к', '2к', '3к', '4к и более', 'студия', 'первый', 'последний', 'средний', \n",
    "           'деревянный', 'кирпичный', 'монолитный', 'панельный', \n",
    "           'дизайнерский', 'евро', 'косметический', 'требует ремонта']]\n",
    "\n",
    "#Y = df_v2['Цена']\n",
    "Y = df_v2['LN(Цена)']\n",
    "\n",
    "# Делим имеющуюся выборку на обучающую и тестовую\n",
    "X_train, X_test, Y_train, Y_test = train_test_split(X, Y, test_size=0.2, random_state=0)"
   ]
  },
  {
   "cell_type": "code",
   "execution_count": 11,
   "id": "b02ce10a",
   "metadata": {},
   "outputs": [
    {
     "name": "stdout",
     "output_type": "stream",
     "text": [
      "Train R2 0.930\n",
      "Test R2 0.894\n",
      "Разница 0.037\n",
      "MAE train: 0.097\n",
      "MAE test: 0.123\n",
      "CPU times: total: 1min 4s\n",
      "Wall time: 16.4 s\n"
     ]
    }
   ],
   "source": [
    "%%time\n",
    "\n",
    "xgb = XGBRegressor()\n",
    "\n",
    "br = BaggingRegressor(base_estimator = xgb, \n",
    "                      n_estimators = 100, \n",
    "                      bootstrap = True, \n",
    "                      max_samples = 0.20, \n",
    "                      random_state = 1)\n",
    "\n",
    "br.fit(X_train, Y_train)\n",
    "\n",
    "pred_train = br.predict(X_train)\n",
    "pred_test = br.predict(X_test)\n",
    "\n",
    "print(f'Train R2 {r2_score(Y_train, pred_train):.3f}')\n",
    "print(f'Test R2 {r2_score(Y_test, pred_test):.3f}')\n",
    "print(f'Разница {r2_score(Y_train, pred_train) - r2_score(Y_test, pred_test):.3f}')\n",
    "\n",
    "print(f'MAE train: {mae(Y_train, pred_train):.3f}')\n",
    "print(f'MAE test: {mae(Y_test, pred_test):.3f}')"
   ]
  },
  {
   "cell_type": "code",
   "execution_count": null,
   "id": "990d88e9",
   "metadata": {},
   "outputs": [],
   "source": []
  },
  {
   "cell_type": "code",
   "execution_count": null,
   "id": "8acd5e76",
   "metadata": {},
   "outputs": [],
   "source": []
  },
  {
   "cell_type": "markdown",
   "id": "6aec4782",
   "metadata": {
    "id": "2fc961b2"
   },
   "source": [
    "<font size = 3><div style=\"text-align: justify\">**Вывод по выборке 2:**</div></font>"
   ]
  },
  {
   "cell_type": "markdown",
   "id": "9f314005",
   "metadata": {},
   "source": [
    "Исключение экстремальных выбросов из данных не привело к улучшению модели."
   ]
  },
  {
   "cell_type": "markdown",
   "id": "4f52d158",
   "metadata": {},
   "source": [
    "<font size = 3><div style=\"text-align: justify\">**Выборка 3:**</div></font>"
   ]
  },
  {
   "cell_type": "code",
   "execution_count": 12,
   "id": "60a28d4e",
   "metadata": {},
   "outputs": [
    {
     "data": {
      "text/plain": [
       "2399"
      ]
     },
     "execution_count": 12,
     "metadata": {},
     "output_type": "execute_result"
    }
   ],
   "source": [
    "df_v3 = df.copy()\n",
    "len(df_v3)"
   ]
  },
  {
   "cell_type": "code",
   "execution_count": 13,
   "id": "5c38d981",
   "metadata": {},
   "outputs": [
    {
     "data": {
      "text/plain": [
       "2075"
      ]
     },
     "execution_count": 13,
     "metadata": {},
     "output_type": "execute_result"
    }
   ],
   "source": [
    "df_v3 = df.loc[df['Общая площадь'] < 90]\n",
    "df_v3 = df_v3.loc[df_v3['Хронологический возраст'] < 100]\n",
    "df_v3 = df_v3.loc[df_v3['Цена'] < 6000000]\n",
    "df_v3 = df_v3.loc[df_v3['Площадь кухни'] < 30]\n",
    "len(df_v3)"
   ]
  },
  {
   "cell_type": "code",
   "execution_count": 14,
   "id": "68698971",
   "metadata": {},
   "outputs": [],
   "source": [
    "#X = df_v3[['Общая площадь', 'Площадь кухни', 'Жилая площадь', 'Этаж 1', 'Этажей в доме', \n",
    "#           'Хронологический возраст', 'Долгота', 'Широта', 'pca(координата)', 'Тип санузла 2', \n",
    "#           '1к', '2к', '3к', '4к и более', 'студия', 'первый', 'последний', 'средний', \n",
    "#           'деревянный', 'кирпичный', 'монолитный', 'панельный', \n",
    "#           'дизайнерский', 'евро', 'косметический', 'требует ремонта']]\n",
    "X = df_v3[['LN(Общая площадь)', 'Площадь кухни', 'Жилая площадь', 'Этаж 1', 'Этажей в доме', \n",
    "           'Хронологический возраст', 'Долгота', 'Широта', 'Тип санузла 2', \n",
    "           '1к', '2к', '3к', '4к и более', 'студия', 'первый', 'последний', 'средний', \n",
    "           'деревянный', 'кирпичный', 'монолитный', 'панельный', \n",
    "           'дизайнерский', 'евро', 'косметический', 'требует ремонта']]\n",
    "\n",
    "#Y = df_v3['Цена']\n",
    "Y = df_v3['LN(Цена)']\n",
    "\n",
    "# Делим имеющуюся выборку на обучающую и тестовую\n",
    "X_train, X_test, Y_train, Y_test = train_test_split(X, Y, test_size=0.2, random_state=0)"
   ]
  },
  {
   "cell_type": "code",
   "execution_count": 15,
   "id": "d9f7fc10",
   "metadata": {},
   "outputs": [
    {
     "name": "stdout",
     "output_type": "stream",
     "text": [
      "Train R2 0.893\n",
      "Test R2 0.864\n",
      "Разница 0.028\n",
      "MAE train: 0.095\n",
      "MAE test: 0.109\n",
      "CPU times: total: 55.9 s\n",
      "Wall time: 14.1 s\n"
     ]
    }
   ],
   "source": [
    "%%time\n",
    "\n",
    "xgb = XGBRegressor()\n",
    "\n",
    "br = BaggingRegressor(base_estimator = xgb, \n",
    "                      n_estimators = 100, \n",
    "                      bootstrap = True, \n",
    "                      max_samples = 0.20, \n",
    "                      random_state = 1)\n",
    "\n",
    "br.fit(X_train, Y_train)\n",
    "\n",
    "pred_train = br.predict(X_train)\n",
    "pred_test = br.predict(X_test)\n",
    "\n",
    "print(f'Train R2 {r2_score(Y_train, pred_train):.3f}')\n",
    "print(f'Test R2 {r2_score(Y_test, pred_test):.3f}')\n",
    "print(f'Разница {r2_score(Y_train, pred_train) - r2_score(Y_test, pred_test):.3f}')\n",
    "\n",
    "print(f'MAE train: {mae(Y_train, pred_train):.3f}')\n",
    "print(f'MAE test: {mae(Y_test, pred_test):.3f}')"
   ]
  },
  {
   "cell_type": "markdown",
   "id": "4c6276af",
   "metadata": {},
   "source": [
    "<font size = 3><div style=\"text-align: justify\">**Вывод по выборке 3:**</div></font>"
   ]
  },
  {
   "cell_type": "markdown",
   "id": "8db83bc8",
   "metadata": {},
   "source": [
    "Исключение выбросов (324 квартиры, более 10%) из данных привело к ухудшению модели."
   ]
  },
  {
   "cell_type": "markdown",
   "id": "e85b4dee",
   "metadata": {},
   "source": [
    "<font size = 3><div style=\"text-align: justify\">**Выборка 4, 5:**</div></font>"
   ]
  },
  {
   "cell_type": "markdown",
   "id": "e099c77b",
   "metadata": {},
   "source": [
    "Исключение выбросов также приведет к ухудшению модели."
   ]
  },
  {
   "cell_type": "code",
   "execution_count": null,
   "id": "bb8b637d",
   "metadata": {},
   "outputs": [],
   "source": []
  },
  {
   "cell_type": "code",
   "execution_count": null,
   "id": "a80b33d4",
   "metadata": {},
   "outputs": [],
   "source": []
  },
  {
   "cell_type": "code",
   "execution_count": null,
   "id": "66926e2c",
   "metadata": {},
   "outputs": [],
   "source": []
  },
  {
   "cell_type": "code",
   "execution_count": null,
   "id": "a000897d",
   "metadata": {
    "id": "a000897d"
   },
   "outputs": [],
   "source": [
    "from sklearn.pipeline import make_pipeline\n",
    "\n",
    "polynomial_regressor = make_pipeline(\n",
    "    MinMaxScaler(),\n",
    "    PolynomialFeatures(degree=4),\n",
    "    Ridge(alpha=1e-10),\n",
    "    )"
   ]
  },
  {
   "cell_type": "code",
   "execution_count": null,
   "id": "61160906",
   "metadata": {
    "id": "61160906"
   },
   "outputs": [],
   "source": [
    "bagging = BaggingRegressor(\n",
    "    base_estimator=polynomial_regressor,\n",
    "    n_estimators=100,\n",
    "    random_state=0,\n",
    "    )"
   ]
  },
  {
   "cell_type": "code",
   "execution_count": null,
   "id": "96c83cba",
   "metadata": {
    "id": "96c83cba"
   },
   "outputs": [],
   "source": [
    "BaggingRegressor(base_estimator=None, \n",
    "                 n_estimators=10, \n",
    "                 max_samples=1.0, \n",
    "                 max_features=1.0, \n",
    "                 bootstrap=True, \n",
    "                 bootstrap_features=False, \n",
    "                 oob_score=False, \n",
    "                 warm_start=False, \n",
    "                 n_jobs=None, \n",
    "                 random_state=None, \n",
    "                 verbose=0)"
   ]
  }
 ],
 "metadata": {
  "colab": {
   "provenance": []
  },
  "kernelspec": {
   "display_name": "Python 3 (ipykernel)",
   "language": "python",
   "name": "python3"
  },
  "language_info": {
   "codemirror_mode": {
    "name": "ipython",
    "version": 3
   },
   "file_extension": ".py",
   "mimetype": "text/x-python",
   "name": "python",
   "nbconvert_exporter": "python",
   "pygments_lexer": "ipython3",
   "version": "3.9.12"
  }
 },
 "nbformat": 4,
 "nbformat_minor": 5
}
